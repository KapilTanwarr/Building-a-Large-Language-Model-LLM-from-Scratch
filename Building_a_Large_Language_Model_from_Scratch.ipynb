{
  "nbformat": 4,
  "nbformat_minor": 0,
  "metadata": {
    "colab": {
      "provenance": [],
      "gpuType": "T4"
    },
    "kernelspec": {
      "name": "python3",
      "display_name": "Python 3"
    },
    "language_info": {
      "name": "python"
    },
    "accelerator": "GPU"
  },
  "cells": [
    {
      "cell_type": "markdown",
      "source": [
        "# Building a Large Language Model from Scratch\n",
        "Modern language models (like GPT-4) use transformers, a deep learning architecture that learns word relationships through self-attention. We’ll build a basic transformer-based model to understand how to build a large language model from scratch. The goal of our language model will be to predict the next word.\n",
        "\n",
        "### Here are the six main components we’ll cover:\n",
        "\n",
        "Tokenization\n",
        "\n",
        "Embedding Layer\n",
        "\n",
        "Positional Encoding\n",
        "\n",
        "Self-Attention\n",
        "\n",
        "Transformer Block\n",
        "\n",
        "Full Language Model"
      ],
      "metadata": {
        "id": "xc_g-JScB7e0"
      }
    },
    {
      "cell_type": "markdown",
      "source": [
        "## Step 1: Tokenization\n",
        "Computers can’t understand words directly, so we map each word to a unique number (ID). This process is called tokenization. Here’s how to tokenize text:"
      ],
      "metadata": {
        "id": "iFM6SewBCWXb"
      }
    },
    {
      "cell_type": "code",
      "execution_count": 2,
      "metadata": {
        "id": "6Wyh4N8LoC2W"
      },
      "outputs": [],
      "source": [
        "import torch\n",
        "import torch.nn as nn\n",
        "import torch.optim as optim\n",
        "import math\n",
        "\n",
        "def tokenize(text, vocab):\n",
        "    return [vocab.get(word, vocab[\"<UNK>\"]) for word in text.split()]"
      ]
    },
    {
      "cell_type": "markdown",
      "source": [
        "Here’s how this works:\n",
        "\n",
        "\n",
        "1. text.split(): Splits a sentence into words (e.g., “hello world”: [“hello”, “world”]).\n",
        "\n",
        "2. vocab: A dictionary that assigns numbers to words (e.g., {“hello”: 0, “world”: 1, “<UNK>”: 2}).\n",
        "\n",
        "3. vocab.get(word, vocab[“<UNK>”]): Returns a word’s assigned number. If it’s missing, assigns <UNK> (unknown).\n",
        "\n",
        "Think of this as giving each word an ID, so the model can work with numbers instead of text."
      ],
      "metadata": {
        "id": "PivqkCwvCf60"
      }
    },
    {
      "cell_type": "markdown",
      "source": [
        "## Step 2: Embedding Layer\n",
        "Numbers alone (like 0 and 1) don’t carry meaning. An embedding layer transforms these numbers into vectors (lists of numbers), allowing words with similar meanings to have similar representations. Here’s how to implement it:"
      ],
      "metadata": {
        "id": "uIbWlziVCxQo"
      }
    },
    {
      "cell_type": "code",
      "source": [
        "class Embedding(nn.Module):\n",
        "    def __init__(self, vocab_size, embedding_dim):\n",
        "        super(Embedding, self).__init__()\n",
        "        self.embedding = nn.Embedding(vocab_size, embedding_dim)\n",
        "\n",
        "    def forward(self, x):\n",
        "        return self.embedding(x)"
      ],
      "metadata": {
        "id": "CbqJcs6XCcJX"
      },
      "execution_count": 3,
      "outputs": []
    },
    {
      "cell_type": "markdown",
      "source": [
        "Here’s how the embedding layer works:\n",
        "\n",
        "1. nn.Embedding(vocab_size, embedding_dim): Creates a table where each word ID maps to a vector.\n",
        "2. embedding_dim: Defines the length of each vector (e.g., 16 numbers per word).\n",
        "\n",
        "Think of embeddings as assigning each word a personality, so words like happy and joyful get similar vectors."
      ],
      "metadata": {
        "id": "t2xR-I_3C6yV"
      }
    },
    {
      "cell_type": "markdown",
      "source": [
        "## Step 3: Positional Encoding\n",
        "Transformers process all words at once, so they don’t naturally understand order (e.g., “I love you” ≠ “You love I”). Positional encoding fixes this by adding a unique “position signal” to each word. Here’s how to implement positional encoding:"
      ],
      "metadata": {
        "id": "udz7w3iiDDvH"
      }
    },
    {
      "cell_type": "code",
      "source": [
        "class PositionalEncoding(nn.Module):\n",
        "    def __init__(self, embedding_dim, max_seq_len=5000):\n",
        "        super(PositionalEncoding, self).__init__()\n",
        "        self.embedding_dim = embedding_dim\n",
        "        pe = torch.zeros(max_seq_len, embedding_dim)\n",
        "        position = torch.arange(0, max_seq_len, dtype=torch.float).unsqueeze(1)\n",
        "        div_term = torch.exp(torch.arange(0, embedding_dim, 2).float() * (-math.log(10000.0) / embedding_dim))\n",
        "        pe[:, 0::2] = torch.sin(position * div_term)\n",
        "        pe[:, 1::2] = torch.cos(position * div_term)\n",
        "        pe = pe.unsqueeze(0).transpose(0, 1)\n",
        "        self.register_buffer('pe', pe)\n",
        "\n",
        "    def forward(self, x):\n",
        "        return x + self.pe[:x.size(0), :]"
      ],
      "metadata": {
        "id": "n4G2_WZ4C3nn"
      },
      "execution_count": 4,
      "outputs": []
    },
    {
      "cell_type": "markdown",
      "source": [
        "### Here’s how the above function works:\n",
        "\n",
        "1. embedding_dim: Matches the vector size from the embedding layer.\n",
        "2. max_seq_len: The longest sentence we’ll handle (e.g., 5000 words).\n",
        "3. Math (sine and cosine): Creates a pattern of numbers that change based on position (e.g., word 1 gets one pattern, word 2 gets another).\n",
        "4. forward: Adds these position numbers to the word vectors.\n",
        "\n",
        "Think of this as tagging each word with a position stamp so the model understands word order."
      ],
      "metadata": {
        "id": "fW_kWUwHDOZr"
      }
    },
    {
      "cell_type": "markdown",
      "source": [
        "## Step 4: Self-Attention\n",
        "Self-attention helps the model focus on important words. For example, in “The cat sat on the mat”, “sat” relates more to “cat” than “mat”. Here’s how to implement it:"
      ],
      "metadata": {
        "id": "ygqnEnOzDZ_J"
      }
    },
    {
      "cell_type": "code",
      "source": [
        "class SelfAttention(nn.Module):\n",
        "    def __init__(self, embedding_dim):\n",
        "        super(SelfAttention, self).__init__()\n",
        "        self.query = nn.Linear(embedding_dim, embedding_dim)\n",
        "        self.key = nn.Linear(embedding_dim, embedding_dim)\n",
        "        self.value = nn.Linear(embedding_dim, embedding_dim)\n",
        "\n",
        "    def forward(self, x):\n",
        "        queries = self.query(x)\n",
        "        keys = self.key(x)\n",
        "        values = self.value(x)\n",
        "        scores = torch.bmm(queries, keys.transpose(1, 2)) / torch.sqrt(torch.tensor(x.size(-1), dtype=torch.float32))\n",
        "        attention_weights = torch.softmax(scores, dim=-1)\n",
        "        attended_values = torch.bmm(attention_weights, values)\n",
        "        return attended_values"
      ],
      "metadata": {
        "id": "QnnoRb4dDKvk"
      },
      "execution_count": 5,
      "outputs": []
    },
    {
      "cell_type": "markdown",
      "source": [
        "### Here’s how self-attention works:\n",
        "\n",
        "1. query, key, value: Three transformations of the input vectors. Think of them as asking “What do I care about?” (query), “What’s available?” (key), and “What do I take?” (value).\n",
        "2. scores: Measures how much each word relates to every other word.\n",
        "3. attention_weights: Turns scores into probabilities (e.g., 70% focus on “how”, 30% on “are”).\n",
        "4. attended_values: Combines the important parts of the sentence.\n",
        "\n",
        "Think of self-attention as a smart highlighter that finds important words to focus on."
      ],
      "metadata": {
        "id": "mgRJYc-aDlhk"
      }
    },
    {
      "cell_type": "markdown",
      "source": [],
      "metadata": {
        "id": "1sPl6xXsDlJt"
      }
    },
    {
      "cell_type": "markdown",
      "source": [
        "## Step 5: Transformer Block\n",
        "A single attention layer isn’t enough. Transformer blocks combine attention with deeper processing. Here’s how to implement a transformer block:"
      ],
      "metadata": {
        "id": "JzQuLFipFXDX"
      }
    },
    {
      "cell_type": "code",
      "source": [
        "class TransformerBlock(nn.Module):\n",
        "    def __init__(self, embedding_dim, hidden_dim):\n",
        "        super(TransformerBlock, self).__init__()\n",
        "        self.attention = SelfAttention(embedding_dim)\n",
        "        self.feed_forward = nn.Sequential(\n",
        "            nn.Linear(embedding_dim, hidden_dim),\n",
        "            nn.ReLU(),\n",
        "            nn.Linear(hidden_dim, embedding_dim)\n",
        "        )\n",
        "        self.norm1 = nn.LayerNorm(embedding_dim)\n",
        "        self.norm2 = nn.LayerNorm(embedding_dim)\n",
        "\n",
        "    def forward(self, x):\n",
        "        attended = self.attention(x)\n",
        "        x = self.norm1(x + attended)\n",
        "        forwarded = self.feed_forward(x)\n",
        "        x = self.norm2(x + forwarded)\n",
        "        return x"
      ],
      "metadata": {
        "id": "HqepNhyiDg6a"
      },
      "execution_count": 6,
      "outputs": []
    },
    {
      "cell_type": "markdown",
      "source": [
        "Here’s how the transformer block works:\n",
        "\n",
        "1. attention: The self-attention we just built.\n",
        "2. feed_forward: A small neural network to process each word further.\n",
        "3. norm1, norm2: Normalizes the numbers so they don’t get too big or small (like keeping everyone on the same scale).\n",
        "4. x + attended: Adds the original input to the attention output (a trick called “residual connection”).\n",
        "\n",
        "\n",
        "This is like a brain cell, it listens (attention), thinks (feed-forward), and keeps things stable (normalization)."
      ],
      "metadata": {
        "id": "nHYmcklnF5eu"
      }
    },
    {
      "cell_type": "markdown",
      "source": [
        "## Step 6: Full Language Model\n",
        "Now, we will combine all the pieces into one model that predicts the next word:"
      ],
      "metadata": {
        "id": "adyW1-n5GQur"
      }
    },
    {
      "cell_type": "code",
      "source": [
        "class SimpleLLM(nn.Module):\n",
        "    def __init__(self, vocab_size, embedding_dim, hidden_dim, num_layers):\n",
        "        super(SimpleLLM, self).__init__()\n",
        "        self.embedding = Embedding(vocab_size, embedding_dim)\n",
        "        self.positional_encoding = PositionalEncoding(embedding_dim)\n",
        "        self.transformer_blocks = nn.Sequential(*[TransformerBlock(embedding_dim, hidden_dim) for _ in range(num_layers)])\n",
        "        self.output = nn.Linear(embedding_dim, vocab_size)\n",
        "\n",
        "    def forward(self, x):\n",
        "        x = self.embedding(x)\n",
        "        x = x.transpose(0, 1) # Transpose for positional encoding\n",
        "        x = self.positional_encoding(x)\n",
        "        x = x.transpose(0, 1) # Transpose back\n",
        "        x = self.transformer_blocks(x)\n",
        "        x = self.output(x)\n",
        "        return x"
      ],
      "metadata": {
        "id": "lE2QrxAaFvJK"
      },
      "execution_count": 7,
      "outputs": []
    },
    {
      "cell_type": "markdown",
      "source": [
        "### Some key components you should know:\n",
        "\n",
        "1. num_layers: How many transformer blocks to stack (more layers = deeper thinking).\n",
        "2. output: Turns the final vectors back into word predictions (e.g., probabilities for each word in the vocab).\n",
        "\n",
        "This is the final system, it reads the sentence, understands it, and guesses the next word."
      ],
      "metadata": {
        "id": "O-7O8lb6G7nC"
      }
    },
    {
      "cell_type": "markdown",
      "source": [
        "## Step 7: Training the Model\n",
        "Now, we will teach the model by showing it examples and correcting its mistakes:"
      ],
      "metadata": {
        "id": "uwO7WaWPHSyC"
      }
    },
    {
      "cell_type": "code",
      "source": [
        "vocab = {\"hello\": 0, \"world\": 1, \"how\": 2, \"are\": 3, \"you\": 4, \"<UNK>\": 5}\n",
        "vocab_size = len(vocab)\n",
        "embedding_dim = 16\n",
        "hidden_dim = 32\n",
        "num_layers = 2\n",
        "\n",
        "model = SimpleLLM(vocab_size, embedding_dim, hidden_dim, num_layers)\n",
        "criterion = nn.CrossEntropyLoss()\n",
        "optimizer = optim.Adam(model.parameters(), lr=0.001)\n",
        "\n",
        "data = [\"hello world how are you\", \"how are you hello world\"]\n",
        "tokenized_data = [tokenize(sentence, vocab) for sentence in data]\n",
        "\n",
        "for epoch in range(100):\n",
        "    for sentence in tokenized_data:\n",
        "        for i in range(1, len(sentence)):\n",
        "            input_seq = torch.tensor(sentence[:i]).unsqueeze(0)\n",
        "            target = torch.tensor(sentence[i]).unsqueeze(0)\n",
        "            optimizer.zero_grad()\n",
        "            output = model(input_seq)\n",
        "            loss = criterion(output[:, -1, :], target)\n",
        "            loss.backward()\n",
        "            optimizer.step()\n",
        "    if epoch % 10 == 0:\n",
        "        print(f\"Epoch {epoch}, Loss: {loss.item()}\")"
      ],
      "metadata": {
        "colab": {
          "base_uri": "https://localhost:8080/"
        },
        "id": "V8XTiHNNGW44",
        "outputId": "0b3005df-20eb-43f6-a2d6-ee7b29bfbc8e"
      },
      "execution_count": 8,
      "outputs": [
        {
          "output_type": "stream",
          "name": "stdout",
          "text": [
            "Epoch 0, Loss: 1.5782815217971802\n",
            "Epoch 10, Loss: 0.583702027797699\n",
            "Epoch 20, Loss: 0.2834070920944214\n",
            "Epoch 30, Loss: 0.1616787165403366\n",
            "Epoch 40, Loss: 0.1016378179192543\n",
            "Epoch 50, Loss: 0.06889692693948746\n",
            "Epoch 60, Loss: 0.049398016184568405\n",
            "Epoch 70, Loss: 0.03696071356534958\n",
            "Epoch 80, Loss: 0.028581706807017326\n",
            "Epoch 90, Loss: 0.022689146921038628\n"
          ]
        }
      ]
    },
    {
      "cell_type": "markdown",
      "source": [
        "### Some key components you should know:\n",
        "\n",
        "1. input_seq: The words so far (e.g., [0, 1] for “hello world”).\n",
        "2. target: The next word (e.g., 2 for “how”).\n",
        "3. loss: How far off the prediction was.\n",
        "4. optimizer.step(): Updates the model to improve."
      ],
      "metadata": {
        "id": "JtoWxz5VHgjE"
      }
    },
    {
      "cell_type": "markdown",
      "source": [
        "## Step 8: Using the Model\n",
        "Now, let’s predict the next word using our model:"
      ],
      "metadata": {
        "id": "Rh4bQPhoHqQ1"
      }
    },
    {
      "cell_type": "code",
      "source": [
        "input_text = \"hello world how\"\n",
        "input_tokens = tokenize(input_text, vocab)\n",
        "input_tensor = torch.tensor(input_tokens).unsqueeze(0)\n",
        "output = model(input_tensor)\n",
        "predicted_token = torch.argmax(output[:, -1, :]).item()\n",
        "print(f\"Input: {input_text}, Predicted: {list(vocab.keys())[list(vocab.values()).index(predicted_token)]}\")"
      ],
      "metadata": {
        "colab": {
          "base_uri": "https://localhost:8080/"
        },
        "id": "2fXZOwvxHnVK",
        "outputId": "351a8fee-a4b8-43c9-a875-e5d2623587c2"
      },
      "execution_count": 9,
      "outputs": [
        {
          "output_type": "stream",
          "name": "stdout",
          "text": [
            "Input: hello world how, Predicted: are\n"
          ]
        }
      ]
    },
    {
      "cell_type": "markdown",
      "source": [
        "## How to Build an Actual LLM with this?\n",
        "To scale up this model into a practical LLM, several key changes are needed. First, the vocabulary size must expand from just 6 words to 50,000+ words or subwords using techniques like Byte-Pair Encoding (BPE) and tokenizers from libraries like Hugging Face. Instead of two sentences, real-world training requires millions of sentences sourced from books, Wikipedia, or large datasets.\n",
        "\n",
        "The embedding dimension should increase from 16 to 512 or 1024 for richer word representations, while the hidden dimension should grow from 32 to at least 2048 for greater processing power. The number of transformer layers needs to scale from 2 to 12–96, similar to models like GPT-3.\n",
        "\n",
        "Instead of simple self-attention, multi-head attention should be implemented using nn.MultiheadAttention for better contextual understanding. Training also becomes significantly more complex, moving from 100 CPU epochs to multi-GPU/TPU training over days or weeks, requiring optimizations like batching (DataLoader), gradient clipping, and learning rate schedulers.\n",
        "\n",
        "Hardware-wise, a real LLM demands multiple high-end GPUs (e.g., 8+ A100s) and frameworks like PyTorch Lightning or DeepSpeed for efficient scaling."
      ],
      "metadata": {
        "id": "zudo9c6aHvq7"
      }
    }
  ]
}